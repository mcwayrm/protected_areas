{
 "cells": [
  {
   "cell_type": "markdown",
   "metadata": {},
   "source": [
    "This code generates a csv for a 5% of each the countries in the WDPA data. \n",
    "This creates the template for the manual data collection (for checking data entry) of the costs."
   ]
  },
  {
   "cell_type": "code",
   "execution_count": null,
   "metadata": {},
   "outputs": [],
   "source": [
    "import geopandas as gpd\n",
    "import pandas as pd\n",
    "\n",
    "# Imports PA dataset\n",
    "wdpa = gpd.read_file(\"../../data/WDPA/raw/WDPA_Jan2023_Public.gdb\")"
   ]
  },
  {
   "cell_type": "code",
   "execution_count": 2,
   "metadata": {},
   "outputs": [],
   "source": [
    "##############\n",
    "# WARNING !!!!!!!!!!!\n",
    "# If you rerun this code, it will overwrite the current data from the manual data collection.\n",
    "##############\n",
    "\n",
    "import numpy as np\n",
    "from pathlib import Path \n",
    "\n",
    "# Set Seed \n",
    "import random\n",
    "random.seed(12345)\n",
    "\n",
    "# Create new variable of ISO3 to desginate if a park is international (e.g., multiple ISO3 codes)\n",
    "wdpa[\"ISO3_Int\"] = np.where(wdpa[\"ISO3\"].str.contains(\";\"), \"INT\", wdpa[\"ISO3\"])\n",
    "\n",
    "# Get list of unique country ISO3 codes \n",
    "list_countries = set(wdpa[\"ISO3_Int\"])\n",
    "\n",
    "# Loop through countries \n",
    "for country in list_countries: \n",
    "    # Subset for country\n",
    "    wdpa_country = wdpa[wdpa[\"ISO3_Int\"] == country]\n",
    "\n",
    "    # Only keep necessary info\n",
    "    wdpa_country = pd.DataFrame(\n",
    "                wdpa_country[[\"WDPAID\", \"WDPA_PID\", \"NAME\", \n",
    "                        \"ORIG_NAME\", \"DESIG_ENG\", \"DESIG_TYPE\", \n",
    "                        \"MARINE\", \"STATUS_YR\", \"OWN_TYPE\", \n",
    "                        \"MANG_AUTH\", \"ISO3\"]]\n",
    "    )\n",
    "    # Add variables to collect info on costs\n",
    "    added_vars = [\"cost_established\", \"cost_maintainted\"]\n",
    "    for var in added_vars:\n",
    "        wdpa_country[var] = \"\"\n",
    "        wdpa_country[var + \"_units\"] = \"\"\n",
    "        wdpa_country[var + \"_source\"] = \"\"\n",
    "\n",
    "    # Proper subsampling of 5% of parks from every country to check.\n",
    "    wdpa_country = wdpa_country.sample(frac = 0.05)\n",
    "    \n",
    "    # Export template for manual data entry\n",
    "    filepath = Path('../../data/WDPA/costs/manual/costs_' + country + '_manual.csv')  \n",
    "    filepath.parent.mkdir(parents = True, exist_ok = True)  \n",
    "    wdpa_country.to_csv(filepath, index = False)  \n"
   ]
  },
  {
   "cell_type": "code",
   "execution_count": 2,
   "metadata": {},
   "outputs": [
    {
     "ename": "NameError",
     "evalue": "name 'list_countries' is not defined",
     "output_type": "error",
     "traceback": [
      "\u001b[1;31m---------------------------------------------------------------------------\u001b[0m",
      "\u001b[1;31mNameError\u001b[0m                                 Traceback (most recent call last)",
      "\u001b[1;32mc:\\Users\\ryanm\\Dropbox (Personal)\\Protected_Areas\\scripts\\00_generate\\00_generate_manual_costs_csv.ipynb Cell 4\u001b[0m line \u001b[0;36m5\n\u001b[0;32m      <a href='vscode-notebook-cell:/c%3A/Users/ryanm/Dropbox%20%28Personal%29/Protected_Areas/scripts/00_generate/00_generate_manual_costs_csv.ipynb#W3sZmlsZQ%3D%3D?line=1'>2</a>\u001b[0m \u001b[39mimport\u001b[39;00m \u001b[39mnumpy\u001b[39;00m \u001b[39mas\u001b[39;00m \u001b[39mnp\u001b[39;00m\n\u001b[0;32m      <a href='vscode-notebook-cell:/c%3A/Users/ryanm/Dropbox%20%28Personal%29/Protected_Areas/scripts/00_generate/00_generate_manual_costs_csv.ipynb#W3sZmlsZQ%3D%3D?line=3'>4</a>\u001b[0m \u001b[39m# Number of countries \u001b[39;00m\n\u001b[1;32m----> <a href='vscode-notebook-cell:/c%3A/Users/ryanm/Dropbox%20%28Personal%29/Protected_Areas/scripts/00_generate/00_generate_manual_costs_csv.ipynb#W3sZmlsZQ%3D%3D?line=4'>5</a>\u001b[0m parks_checked \u001b[39m=\u001b[39m np\u001b[39m.\u001b[39mempty(list_countries, \u001b[39m2\u001b[39m)\n\u001b[0;32m      <a href='vscode-notebook-cell:/c%3A/Users/ryanm/Dropbox%20%28Personal%29/Protected_Areas/scripts/00_generate/00_generate_manual_costs_csv.ipynb#W3sZmlsZQ%3D%3D?line=5'>6</a>\u001b[0m dim(parks_checked)\n\u001b[0;32m      <a href='vscode-notebook-cell:/c%3A/Users/ryanm/Dropbox%20%28Personal%29/Protected_Areas/scripts/00_generate/00_generate_manual_costs_csv.ipynb#W3sZmlsZQ%3D%3D?line=6'>7</a>\u001b[0m \u001b[39m# for country in list_countries: \u001b[39;00m\n\u001b[0;32m      <a href='vscode-notebook-cell:/c%3A/Users/ryanm/Dropbox%20%28Personal%29/Protected_Areas/scripts/00_generate/00_generate_manual_costs_csv.ipynb#W3sZmlsZQ%3D%3D?line=7'>8</a>\u001b[0m \u001b[39m#     # Subset for country\u001b[39;00m\n\u001b[0;32m      <a href='vscode-notebook-cell:/c%3A/Users/ryanm/Dropbox%20%28Personal%29/Protected_Areas/scripts/00_generate/00_generate_manual_costs_csv.ipynb#W3sZmlsZQ%3D%3D?line=8'>9</a>\u001b[0m \u001b[39m#     wdpa_country = wdpa[wdpa[\"ISO3_Int\"] == country] \u001b[39;00m\n\u001b[1;32m   (...)\u001b[0m\n\u001b[0;32m     <a href='vscode-notebook-cell:/c%3A/Users/ryanm/Dropbox%20%28Personal%29/Protected_Areas/scripts/00_generate/00_generate_manual_costs_csv.ipynb#W3sZmlsZQ%3D%3D?line=13'>14</a>\u001b[0m \u001b[39m# # How many parks are we manually checking in total and for each country (valuable for an appendix or reference for the future)\u001b[39;00m\n\u001b[0;32m     <a href='vscode-notebook-cell:/c%3A/Users/ryanm/Dropbox%20%28Personal%29/Protected_Areas/scripts/00_generate/00_generate_manual_costs_csv.ipynb#W3sZmlsZQ%3D%3D?line=14'>15</a>\u001b[0m \u001b[39m# print(parks_checked) # TODO: Make this a table...\u001b[39;00m\n",
      "\u001b[1;31mNameError\u001b[0m: name 'list_countries' is not defined"
     ]
    }
   ],
   "source": [
    "# TODO: Count the len() so we know how many parks we are manually adding\n",
    "import numpy as np\n",
    "\n",
    "# Number of countries \n",
    "parks_checked = np.empty(list_countries, 2)\n",
    "\n",
    "for country in list_countries: \n",
    "    # Subset for country\n",
    "    wdpa_country = wdpa[wdpa[\"ISO3_Int\"] == country] \n",
    "    # Proper subsampling of 5% of parks from every country to check.\n",
    "    wdpa_country = wdpa_country.sample(frac = 0.05)\n",
    "    parks_checked = np.vstack([parks_checked, [country, len(wdpa_country)]])\n",
    "\n",
    "# How many parks are we manually checking in total and for each country (valuable for an appendix or reference for the future)\n",
    "print(parks_checked) # TODO: Make this a table...\n"
   ]
  },
  {
   "cell_type": "code",
   "execution_count": null,
   "metadata": {},
   "outputs": [],
   "source": [
    "# TODO: Create a new script to compare the manual entry and the webscraping entry"
   ]
  }
 ],
 "metadata": {
  "kernelspec": {
   "display_name": "geovenv1",
   "language": "python",
   "name": "python3"
  },
  "language_info": {
   "codemirror_mode": {
    "name": "ipython",
    "version": 3
   },
   "file_extension": ".py",
   "mimetype": "text/x-python",
   "name": "python",
   "nbconvert_exporter": "python",
   "pygments_lexer": "ipython3",
   "version": "3.10.6"
  },
  "orig_nbformat": 4
 },
 "nbformat": 4,
 "nbformat_minor": 2
}
