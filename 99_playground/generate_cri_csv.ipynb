{
 "cells": [
  {
   "cell_type": "markdown",
   "metadata": {},
   "source": [
    "This code generates a csv of WDPA data for a specific country. \n",
    "This creates the template for the manual data collection (for checking data entry) of the costs.\n",
    "This currently is only for CRI -- \"Costa Rica\""
   ]
  },
  {
   "cell_type": "code",
   "execution_count": 1,
   "metadata": {},
   "outputs": [],
   "source": [
    "import geopandas as gpd\n",
    "import pandas as pd\n",
    "\n",
    "# Imports PA dataset\n",
    "wdpa = gpd.read_file(\"../../data/WDPA/raw/WDPA_Jan2023_Public.gdb\")"
   ]
  },
  {
   "cell_type": "code",
   "execution_count": 7,
   "metadata": {},
   "outputs": [
    {
     "ename": "SyntaxError",
     "evalue": "unterminated string literal (detected at line 8) (1895117786.py, line 8)",
     "output_type": "error",
     "traceback": [
      "\u001b[1;36m  Cell \u001b[1;32mIn [7], line 8\u001b[1;36m\u001b[0m\n\u001b[1;33m    wdpa[\"ISO3_Int\"] = np.where(\";wdpa[\"ISO3\"] == )\u001b[0m\n\u001b[1;37m                                            ^\u001b[0m\n\u001b[1;31mSyntaxError\u001b[0m\u001b[1;31m:\u001b[0m unterminated string literal (detected at line 8)\n"
     ]
    }
   ],
   "source": [
    "import numpy as np\n",
    "from pathlib import Path \n",
    "\n",
    "# Set Seed \n",
    "import random\n",
    "random.seed(12345)\n",
    "\n",
    "    # TODO: Some of the parks have multiple countries that they span. \n",
    "# Create new variable of ISO3 to desginate if a park is international (e.g., multiple ISO3 codes)\n",
    "wdpa[\"ISO3_Int\"] = np.where(\";\" in wdpa[\"ISO3\"], \"INT\", wdpa[\"ISO3\"])\n",
    "    # TODO: AN issue with the replacement...\n",
    "\n",
    "# Get list of unique country ISO3 codes \n",
    "list_countries = set(wdpa[\"ISO3_Int\"])\n",
    "\n",
    "# Loop through countries \n",
    "for country in list_countries: \n",
    "    # Subset for country\n",
    "    wdpa_country = wdpa[wdpa[\"ISO3\"] == country]\n",
    "\n",
    "    # Drop geometries\n",
    "    wdpa_country = pd.DataFrame(pd.DataFrame(wdpa_cri.drop(columns = 'geometry')))\n",
    "    # Only keep necessary info\n",
    "    wdpa_cri = wdpa_cri[[\"WDPAID\", \"WDPA_PID\", \"NAME\", \n",
    "                        \"ORIG_NAME\", \"DESIG_ENG\", \"DESIG_TYPE\", \n",
    "                        \"MARINE\", \"STATUS_YR\", \"OWN_TYPE\", \n",
    "                        \"MANG_AUTH\", \"ISO3\"]]\n",
    "    # Add variables to collect info on costs\n",
    "    added_vars = [\"cost_established\", \"cost_maintainted\"]\n",
    "    for var in added_vars:\n",
    "        wdpa_country[var] = \"\"\n",
    "        wdpa_country[var + \"_units\"] = \"\"\n",
    "        wdpa_country[var + \"_source\"] = \"\"\n",
    "\n",
    "    # Proper subsampling of 5% of parks from every country to check.\n",
    "    wdpa_country = wdpa_country.sample(frac = 0.05)\n",
    "    \n",
    "    # Export template for manual data entry\n",
    "    filepath = Path('../../data/WDPA/costs/manual/cost_' + country + '_template.csv')  \n",
    "    filepath.parent.mkdir(parents = True, exist_ok = True)  \n",
    "    wdpa_cri.to_csv(filepath, index = False)  \n"
   ]
  },
  {
   "cell_type": "code",
   "execution_count": 5,
   "metadata": {},
   "outputs": [],
   "source": [
    "# TODO: Count the len() so we know how many parks we are manually adding \n",
    "# TODO: Create a new script to compare the manual entry and the webscraping entry"
   ]
  }
 ],
 "metadata": {
  "kernelspec": {
   "display_name": "geovenv1",
   "language": "python",
   "name": "python3"
  },
  "language_info": {
   "codemirror_mode": {
    "name": "ipython",
    "version": 3
   },
   "file_extension": ".py",
   "mimetype": "text/x-python",
   "name": "python",
   "nbconvert_exporter": "python",
   "pygments_lexer": "ipython3",
   "version": "3.10.6"
  },
  "orig_nbformat": 4
 },
 "nbformat": 4,
 "nbformat_minor": 2
}
