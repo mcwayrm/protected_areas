{
 "cells": [
  {
   "cell_type": "markdown",
   "metadata": {},
   "source": [
    "This code generates a csv for a 5% of each the countries in the WDPA data. \n",
    "This creates the template for the manual data collection (for checking data entry) of the costs."
   ]
  },
  {
   "cell_type": "code",
   "execution_count": 12,
   "metadata": {},
   "outputs": [],
   "source": [
    "import geopandas as gpd\n",
    "import pandas as pd\n",
    "\n",
    "# Imports PA dataset\n",
    "wdpa = gpd.read_file(\"../../data/WDPA/raw/WDPA_Jan2023_Public.gdb\")"
   ]
  },
  {
   "cell_type": "code",
   "execution_count": 26,
   "metadata": {},
   "outputs": [],
   "source": [
    "import numpy as np\n",
    "from pathlib import Path \n",
    "\n",
    "# Set Seed \n",
    "import random\n",
    "random.seed(12345)\n",
    "\n",
    "# Create new variable of ISO3 to desginate if a park is international (e.g., multiple ISO3 codes)\n",
    "wdpa[\"ISO3_Int\"] = np.where(wdpa[\"ISO3\"].str.contains(\";\"), \"INT\", wdpa[\"ISO3\"])\n",
    "\n",
    "# Get list of unique country ISO3 codes \n",
    "list_countries = set(wdpa[\"ISO3_Int\"])\n",
    "\n",
    "# Loop through countries \n",
    "for country in list_countries: \n",
    "    # Subset for country\n",
    "    wdpa_country = wdpa[wdpa[\"ISO3_Int\"] == country]\n",
    "\n",
    "    # Only keep necessary info\n",
    "    wdpa_country = pd.DataFrame(\n",
    "                wdpa_country[[\"WDPAID\", \"WDPA_PID\", \"NAME\", \n",
    "                        \"ORIG_NAME\", \"DESIG_ENG\", \"DESIG_TYPE\", \n",
    "                        \"MARINE\", \"STATUS_YR\", \"OWN_TYPE\", \n",
    "                        \"MANG_AUTH\", \"ISO3\"]]\n",
    "    )\n",
    "    # Add variables to collect info on costs\n",
    "    added_vars = [\"cost_established\", \"cost_maintainted\"]\n",
    "    for var in added_vars:\n",
    "        wdpa_country[var] = \"\"\n",
    "        wdpa_country[var + \"_units\"] = \"\"\n",
    "        wdpa_country[var + \"_source\"] = \"\"\n",
    "\n",
    "    # Proper subsampling of 5% of parks from every country to check.\n",
    "    wdpa_country = wdpa_country.sample(frac = 0.05)\n",
    "    \n",
    "    # Export template for manual data entry\n",
    "    filepath = Path('../../data/WDPA/costs/manual/cost_' + country + '_template.csv')  \n",
    "    filepath.parent.mkdir(parents = True, exist_ok = True)  \n",
    "    wdpa_country.to_csv(filepath, index = False)  \n"
   ]
  },
  {
   "cell_type": "code",
   "execution_count": 5,
   "metadata": {},
   "outputs": [],
   "source": [
    "# TODO: Count the len() so we know how many parks we are manually adding \n",
    "# TODO: Create a new script to compare the manual entry and the webscraping entry"
   ]
  }
 ],
 "metadata": {
  "kernelspec": {
   "display_name": "geovenv1",
   "language": "python",
   "name": "python3"
  },
  "language_info": {
   "codemirror_mode": {
    "name": "ipython",
    "version": 3
   },
   "file_extension": ".py",
   "mimetype": "text/x-python",
   "name": "python",
   "nbconvert_exporter": "python",
   "pygments_lexer": "ipython3",
   "version": "3.10.6"
  },
  "orig_nbformat": 4
 },
 "nbformat": 4,
 "nbformat_minor": 2
}
