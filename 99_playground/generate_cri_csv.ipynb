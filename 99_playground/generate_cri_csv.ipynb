{
 "cells": [
  {
   "cell_type": "markdown",
   "metadata": {},
   "source": [
    "This code generates a csv of WDPA data for a specific country. "
   ]
  },
  {
   "cell_type": "code",
   "execution_count": 1,
   "metadata": {},
   "outputs": [],
   "source": [
    "import geopandas as gpd\n",
    "import pandas as pd\n",
    "\n",
    "wdpa = gpd.read_file(\"../../data/WDPA/raw/WDPA_Jan2023_Public.gdb\")"
   ]
  },
  {
   "cell_type": "code",
   "execution_count": 10,
   "metadata": {},
   "outputs": [],
   "source": [
    "wdpa_cri = wdpa[wdpa[\"ISO3\"]==\"CRI\"]\n",
    "wdpa_cri = pd.DataFrame(pd.DataFrame(wdpa_cri.drop(columns='geometry')))\n",
    "\n",
    "added_vars = [\"cost_established\", \"cost_maintainted\"]\n",
    "for var in added_vars:\n",
    "    wdpa_cri[var] = \"\"\n",
    "    wdpa_cri[var+\"_units\"] = \"\"\n",
    "    wdpa_cri[var+\"_source\"] = \"\""
   ]
  },
  {
   "cell_type": "code",
   "execution_count": 4,
   "metadata": {},
   "outputs": [],
   "source": [
    "from pathlib import Path  \n",
    "\n",
    "filepath = Path('../../data/WDPA/clean/wdpa_cri.csv')  \n",
    "filepath.parent.mkdir(parents=True, exist_ok=True)  \n",
    "wdpa_cri.to_csv(filepath, index=False)  "
   ]
  }
 ],
 "metadata": {
  "kernelspec": {
   "display_name": "geovenv1",
   "language": "python",
   "name": "python3"
  },
  "language_info": {
   "codemirror_mode": {
    "name": "ipython",
    "version": 3
   },
   "file_extension": ".py",
   "mimetype": "text/x-python",
   "name": "python",
   "nbconvert_exporter": "python",
   "pygments_lexer": "ipython3",
   "version": "3.10.12"
  },
  "orig_nbformat": 4
 },
 "nbformat": 4,
 "nbformat_minor": 2
}
