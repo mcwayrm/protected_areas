{
 "cells": [
  {
   "cell_type": "markdown",
   "metadata": {},
   "source": [
    "# Playground Test Code\n",
    "## Pulling Sentiel 2 data using Google Earth Engine "
   ]
  },
  {
   "cell_type": "code",
   "execution_count": null,
   "metadata": {},
   "outputs": [],
   "source": [
    "# Library for Imports\n"
   ]
  },
  {
   "cell_type": "code",
   "execution_count": null,
   "metadata": {},
   "outputs": [],
   "source": [
    "\n",
    "# Set up Google Earth Engine \n",
    "ee_Initialize(user = \"mcway005@umn.edu\",  drive = T, gcs = T)\n",
    "\n",
    "# API Code \n",
    "gee_code <- readLines(\"../access_codes/\")\n",
    "ee_Authenticate(authorization_code = gee_code)"
   ]
  },
  {
   "cell_type": "code",
   "execution_count": null,
   "metadata": {},
   "outputs": [],
   "source": [
    "# Determine bounding box \n",
    "sf_locust = read_sf(\"./data/clean/locust/sf_locust.shp\")\n"
   ]
  },
  {
   "cell_type": "code",
   "execution_count": null,
   "metadata": {},
   "outputs": [],
   "source": [
    "# Sentiel 2 data: \n",
    "var sentiel2 = ee.ImageCollection(\"COPERNICUS/S2_SR_HARMONIZED\");\n",
    "\n",
    "# Filter for only Kenya\n",
    "var kenya = countries.filter(ee.Filter.eq('ADM0_CODE', '133'));\n",
    "\n",
    "# Subset Sentiel 2 data for subset of data\n",
    "var image = ee.Image(sentiel2\n",
    "  // Filter for year 2019 - 2021\n",
    "  .filterDate('2019-01-01', '2021-12-31')\n",
    "  // Filter for only Kenya\n",
    "  .filterBounds(kenya)\n",
    "  );\n",
    "  \n",
    "# Get only NIR (8) and Red (4) Bands\n",
    "var bands = image.select(['B8', 'B4'])\n",
    "\n",
    "# Export Data as an Asset \n",
    "Export.image.toAsset({\n",
    "  image: image,\n",
    "  scale: 20, \n",
    "  region: kenya, \n",
    "  assetId: 'kenya_sentiel'\n",
    "});\n"
   ]
  }
 ],
 "metadata": {
  "kernelspec": {
   "display_name": "8222env1",
   "language": "python",
   "name": "python3"
  },
  "language_info": {
   "codemirror_mode": {
    "name": "ipython",
    "version": 3
   },
   "file_extension": ".py",
   "mimetype": "text/x-python",
   "name": "python",
   "nbconvert_exporter": "python",
   "pygments_lexer": "ipython3",
   "version": "3.10.6"
  },
  "orig_nbformat": 4
 },
 "nbformat": 4,
 "nbformat_minor": 2
}
