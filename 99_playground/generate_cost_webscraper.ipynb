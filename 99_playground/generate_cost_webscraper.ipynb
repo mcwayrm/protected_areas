{
 "cells": [
  {
   "cell_type": "markdown",
   "metadata": {},
   "source": [
    "This script creates the webscraper that compiles information on costs for the Protected Areas. \n",
    "\n",
    "First, it takes in the PAs. \n",
    "\n",
    "Second, it loops through the PAs for each country and searches for the websites related to each park. \n",
    "\n",
    "Third, it combs for information on (1) cost of establishing the park, and (2) cost for maintaining the park.\n",
    "\n",
    "Fourth, it outputs the "
   ]
  },
  {
   "cell_type": "code",
   "execution_count": 1,
   "metadata": {},
   "outputs": [],
   "source": [
    "# Libraries\n",
    "\n",
    "## Work with shapefiles\n",
    "import geopandas as gpd\n",
    "## Work with tabular data\n",
    "import pandas as pd\n",
    "# Access file paths\n",
    "from pathlib import Path \n"
   ]
  },
  {
   "cell_type": "code",
   "execution_count": null,
   "metadata": {},
   "outputs": [],
   "source": [
    "# Dataset on protected areas\n",
    "wdpa = gpd.read_file(\"../../data/WDPA/raw/WDPA_Jan2023_Public.gdb\")\n",
    "\n",
    "# Drop unneeded information (such as shapefiles)\n",
    "\n",
    "# Convert to tabular dataset"
   ]
  },
  {
   "cell_type": "code",
   "execution_count": null,
   "metadata": {},
   "outputs": [],
   "source": [
    "# Subset parks into countries "
   ]
  },
  {
   "cell_type": "code",
   "execution_count": null,
   "metadata": {},
   "outputs": [],
   "source": [
    "# Using country name and park names, search for source to find cost information"
   ]
  },
  {
   "cell_type": "code",
   "execution_count": null,
   "metadata": {},
   "outputs": [],
   "source": [
    "# Once site is found, save: source/website, cost to establish and units, cost to maintain and units \n",
    "\n",
    "# Save this as a vector for each park"
   ]
  },
  {
   "cell_type": "code",
   "execution_count": null,
   "metadata": {},
   "outputs": [],
   "source": [
    "# Concate vector of information for each park back into the PA dataset"
   ]
  },
  {
   "cell_type": "code",
   "execution_count": null,
   "metadata": {},
   "outputs": [],
   "source": [
    "# Export new cost data for PA\n",
    "(\"../../data/WDPA/costs/generated\")"
   ]
  }
 ],
 "metadata": {
  "kernelspec": {
   "display_name": "geovenv1",
   "language": "python",
   "name": "python3"
  },
  "language_info": {
   "codemirror_mode": {
    "name": "ipython",
    "version": 3
   },
   "file_extension": ".py",
   "mimetype": "text/x-python",
   "name": "python",
   "nbconvert_exporter": "python",
   "pygments_lexer": "ipython3",
   "version": "3.10.6"
  },
  "orig_nbformat": 4
 },
 "nbformat": 4,
 "nbformat_minor": 2
}
