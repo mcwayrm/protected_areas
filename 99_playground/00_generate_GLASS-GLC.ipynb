{
 "cells": [
  {
   "cell_type": "code",
   "execution_count": 1,
   "metadata": {},
   "outputs": [],
   "source": [
    "\"\"\"\n",
    "Download and Extract ZIP File Script\n",
    "\n",
    "This Python script allows you to download a ZIP file from a given URL and extract its contents into a new folder. \n",
    "The script creates a new directory with the name of the downloaded ZIP file inside the specified location and downloads the ZIP file to this folder. \n",
    "After that, it extracts the contents of the ZIP file inside the same folder and removes the downloaded ZIP file.\n",
    "\n",
    "Usage:\n",
    "1. Replace the \"file_url\" variable with the URL of the ZIP file you want to download.\n",
    "2. Set the \"extraction_folder\" variable to the desired location where you want to save and extract the file.\n",
    "\n",
    "Note:\n",
    "- This script requires the \"requests\" library, which you can install using \"pip install requests\".\n",
    "- The downloaded ZIP file will have the same name as in the URL and will be removed after extraction.\n",
    "- The folder name for extraction will be \"GLASS-GLC\". If you want a different name, modify the \"extraction_folder\" variable accordingly.\n",
    "\n",
    "Author: Matthew Braaksma\n",
    "Date: 08-03-2023\n",
    "\"\"\"\n",
    "\n",
    "import os\n",
    "import requests\n",
    "import zipfile\n",
    "\n",
    "def download_and_unzip(url, extraction_folder):\n",
    "    # Step 1: Create the new folder for extraction\n",
    "    os.makedirs(extraction_folder, exist_ok=True)\n",
    "\n",
    "    # Step 2: Download the file from the URL and save it in the new folder\n",
    "    response = requests.get(url)\n",
    "    if response.status_code == 200:\n",
    "        file_name = os.path.basename(url)\n",
    "        download_and_extraction_path = os.path.join(extraction_folder, file_name)\n",
    "        with open(download_and_extraction_path, 'wb') as file:\n",
    "            file.write(response.content)\n",
    "        print(\"File downloaded successfully.\")\n",
    "    else:\n",
    "        print(f\"Failed to download the file. Status Code: {response.status_code}\")\n",
    "        return\n",
    "\n",
    "    # Step 3: Unzip the downloaded file inside the new folder and remove the ZIP file\n",
    "    try:\n",
    "        with zipfile.ZipFile(download_and_extraction_path, 'r') as zip_ref:\n",
    "            zip_ref.extractall(extraction_folder)\n",
    "\n",
    "        # Remove the downloaded ZIP file after extraction\n",
    "        os.remove(download_and_extraction_path)\n",
    "\n",
    "        print(\"File extracted successfully.\")\n",
    "    except Exception as e:\n",
    "        print(f\"Failed to extract the file. Error: {str(e)}\")\n"
   ]
  },
  {
   "cell_type": "code",
   "execution_count": 2,
   "metadata": {},
   "outputs": [
    {
     "name": "stdout",
     "output_type": "stream",
     "text": [
      "File downloaded successfully.\n",
      "File extracted successfully.\n"
     ]
    }
   ],
   "source": [
    "if __name__ == \"__main__\":\n",
    "    # Provide the URL of the file you want to download\n",
    "    file_url = \"https://store.pangaea.de/Publications/LiuH-etal_2020/GLASS-GLC.zip\"\n",
    "\n",
    "\n",
    "    # Provide the path to the folder where you want to extract the file\n",
    "    extraction_folder = '../../data/GLASS-GLC/raw'\n",
    "\n",
    "    # Create the extraction folder if it doesn't exist\n",
    "    os.makedirs(extraction_folder, exist_ok=True)\n",
    "\n",
    "    download_and_unzip(file_url, extraction_folder)"
   ]
  }
 ],
 "metadata": {
  "kernelspec": {
   "display_name": "8222env1",
   "language": "python",
   "name": "python3"
  },
  "language_info": {
   "codemirror_mode": {
    "name": "ipython",
    "version": 3
   },
   "file_extension": ".py",
   "mimetype": "text/x-python",
   "name": "python",
   "nbconvert_exporter": "python",
   "pygments_lexer": "ipython3",
   "version": "3.10.6"
  },
  "orig_nbformat": 4
 },
 "nbformat": 4,
 "nbformat_minor": 2
}
